{
 "cells": [
  {
   "cell_type": "code",
   "execution_count": 1,
   "id": "d230f99f-4696-478a-83df-36747788e7c8",
   "metadata": {},
   "outputs": [],
   "source": [
    "class Solution:\n",
    "    \n",
    "    def binarysearch(self, arr, k):\n",
    "        # Code Here\n",
    "        low = 0\n",
    "        high = len(arr) - 1\n",
    "        while low <= high:\n",
    "            mid = (low + high) // 2  \n",
    "            if arr[mid] == k:\n",
    "                return mid  \n",
    "            elif arr[mid] > k:\n",
    "                high = mid - 1\n",
    "            else:\n",
    "                low = mid + 1\n",
    "        return -1\n",
    "            "
   ]
  },
  {
   "cell_type": "code",
   "execution_count": 3,
   "id": "38d9a97f-2a12-4a93-a655-0c189dc2c86e",
   "metadata": {},
   "outputs": [],
   "source": [
    "class Solution:\n",
    "    def sort012(self,arr):\n",
    "        low = 0\n",
    "        mid = 0\n",
    "        high = len(arr)-1\n",
    "        while mid<=high:\n",
    "            if arr[mid] ==0:\n",
    "                arr[low],arr[mid] = arr[mid],arr[low]\n",
    "                low +=1\n",
    "                mid +=1\n",
    "            elif arr[mid] ==1:\n",
    "                mid+=1\n",
    "            else:\n",
    "                arr[mid] = arr[high]\n",
    "                arr[high]= arr[mid]\n",
    "                high -=1\n",
    "        return arr"
   ]
  },
  {
   "cell_type": "code",
   "execution_count": null,
   "id": "09a17960-21a9-48a3-95f3-5977aa27c73c",
   "metadata": {},
   "outputs": [],
   "source": []
  }
 ],
 "metadata": {
  "kernelspec": {
   "display_name": "Python 3 (ipykernel)",
   "language": "python",
   "name": "python3"
  },
  "language_info": {
   "codemirror_mode": {
    "name": "ipython",
    "version": 3
   },
   "file_extension": ".py",
   "mimetype": "text/x-python",
   "name": "python",
   "nbconvert_exporter": "python",
   "pygments_lexer": "ipython3",
   "version": "3.12.7"
  }
 },
 "nbformat": 4,
 "nbformat_minor": 5
}
