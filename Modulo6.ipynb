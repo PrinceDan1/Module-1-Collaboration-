{
 "cells": [
  {
   "cell_type": "code",
   "execution_count": 1,
   "id": "8019530d-58de-4eca-8b44-00cf095712cd",
   "metadata": {},
   "outputs": [],
   "source": [
    "from datetime import datetime\n",
    "\n",
    "current_date = datetime.now()\n",
    "\n",
    "date_string = current_date.strftime('%Y-%m-%d')\n",
    "\n",
    "with open('today.txt', 'w') as file:\n",
    "    file.write(date_string)"
   ]
  },
  {
   "cell_type": "code",
   "execution_count": 3,
   "id": "4b8f3624-49e6-4160-81d7-768edbdba7c8",
   "metadata": {},
   "outputs": [],
   "source": [
    "with open('today.txt', 'r') as file:\n",
    "    today_string = file.read()"
   ]
  },
  {
   "cell_type": "code",
   "execution_count": 5,
   "id": "1347654d-e06d-4d43-9b22-e7063ba1a2a6",
   "metadata": {},
   "outputs": [
    {
     "name": "stdout",
     "output_type": "stream",
     "text": [
      "2024-12-15 00:00:00\n"
     ]
    }
   ],
   "source": [
    "\n",
    "parsed_date = datetime.strptime(today_string, '%Y-%m-%d')\n",
    "\n",
    "print(parsed_date)\n"
   ]
  },
  {
   "cell_type": "code",
   "execution_count": 32,
   "id": "80e6b3be-e05d-4f99-b3ec-f2a6c9b1e501",
   "metadata": {},
   "outputs": [
    {
     "name": "stdout",
     "output_type": "stream",
     "text": [
      "Current time: 2024-12-15 21:41:51 (Waited for 0.14 seconds)\n"
     ]
    }
   ],
   "source": [
    "import multiprocessing\n",
    "import random\n",
    "import time\n",
    "from datetime import datetime\n",
    "\n",
    "def process_task():\n",
    "    wait_time = random.uniform(0, 1)\n",
    "    time.sleep(wait_time)\n",
    "    \n",
    "    current_time = datetime.now().strftime('%Y-%m-%d %H:%M:%S')\n",
    "    print(f\"Current time: {current_time} (Waited for {wait_time:.2f} seconds)\")\n",
    "\n",
    "if __name__ == \"__main__\":\n",
    "    processes = []\n",
    "    \n",
    "    for _ in range(3):\n",
    "        p = multiprocessing.Process(target=process_task)\n",
    "        processes.append(p)\n",
    "        p.start()\n",
    "        \n",
    "process_task()"
   ]
  },
  {
   "cell_type": "code",
   "execution_count": null,
   "id": "0ada4fb2-053b-4c37-b3fe-62dcc398adae",
   "metadata": {},
   "outputs": [],
   "source": []
  },
  {
   "cell_type": "code",
   "execution_count": null,
   "id": "8108af49-90f8-4897-8d0e-0e2c1199e7eb",
   "metadata": {},
   "outputs": [],
   "source": []
  }
 ],
 "metadata": {
  "kernelspec": {
   "display_name": "Python 3 (ipykernel)",
   "language": "python",
   "name": "python3"
  },
  "language_info": {
   "codemirror_mode": {
    "name": "ipython",
    "version": 3
   },
   "file_extension": ".py",
   "mimetype": "text/x-python",
   "name": "python",
   "nbconvert_exporter": "python",
   "pygments_lexer": "ipython3",
   "version": "3.12.7"
  }
 },
 "nbformat": 4,
 "nbformat_minor": 5
}
