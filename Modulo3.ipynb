{
 "cells": [
  {
   "cell_type": "code",
   "execution_count": 5,
   "id": "8019530d-58de-4eca-8b44-00cf095712cd",
   "metadata": {},
   "outputs": [],
   "source": [
    "things=[\"mozzarella\",\"cinderella\",\"salmonella\"]"
   ]
  },
  {
   "cell_type": "code",
   "execution_count": 27,
   "id": "2b14acfd-c1b3-4a18-84b0-662e34d335c6",
   "metadata": {},
   "outputs": [
    {
     "name": "stdout",
     "output_type": "stream",
     "text": [
      "['mozzarella', 'Cinderella', 'salmonella']\n"
     ]
    }
   ],
   "source": [
    "things=[\"mozzarella\",\"cinderella\",\"salmonella\"]\n",
    "things[1] = things[1].capitalize()\n",
    "print(things)"
   ]
  },
  {
   "cell_type": "code",
   "execution_count": 33,
   "id": "5e04de68-8b2c-4cf3-9bbb-2bbb8019239d",
   "metadata": {},
   "outputs": [
    {
     "name": "stdout",
     "output_type": "stream",
     "text": [
      "['MOZZARELLA', 'cinderella', 'salmonella']\n"
     ]
    }
   ],
   "source": [
    "things=[\"mozzarella\",\"cinderella\",\"salmonella\"]\n",
    "things[0] = things[0].upper()\n",
    "print(things)"
   ]
  },
  {
   "cell_type": "code",
   "execution_count": 41,
   "id": "908372e3-b31c-4958-855b-5cdd5dd15f33",
   "metadata": {},
   "outputs": [
    {
     "name": "stdout",
     "output_type": "stream",
     "text": [
      "['mozzarella', 'cinderella']\n",
      "Thanks for the Nobel prize\n"
     ]
    }
   ],
   "source": [
    "things=[\"mozzarella\",\"cinderella\",\"salmonella\"]\n",
    "things.remove(\"salmonella\")\n",
    "print(things)\n",
    "print(\"Thanks for the Nobel prize\")"
   ]
  },
  {
   "cell_type": "code",
   "execution_count": 45,
   "id": "4b998023-e5c2-4842-a346-eba529170222",
   "metadata": {},
   "outputs": [],
   "source": [
    "def good():\n",
    "    return [\"Harry\",\"Ron\", \"Hermione\"]"
   ]
  },
  {
   "cell_type": "code",
   "execution_count": 106,
   "id": "09f65bdc-58f9-4536-a06b-54eb2f4ebd26",
   "metadata": {},
   "outputs": [
    {
     "name": "stdout",
     "output_type": "stream",
     "text": [
      "5\n"
     ]
    }
   ],
   "source": [
    "def get_odds():\n",
    "    for i in range(10):\n",
    "        if i%2!= 0:\n",
    "            yield i\n",
    "        else:\n",
    "            continue\n",
    "counter=0\n",
    "for x in get_odds():\n",
    "    counter+=1\n",
    "    if counter == 3:\n",
    "        print(x)\n",
    "        break\n",
    "    else:\n",
    "        continue"
   ]
  },
  {
   "cell_type": "code",
   "execution_count": null,
   "id": "014e8d7f-39d3-4525-aa80-3849eda99cb4",
   "metadata": {},
   "outputs": [],
   "source": []
  },
  {
   "cell_type": "code",
   "execution_count": null,
   "id": "d230f99f-4696-478a-83df-36747788e7c8",
   "metadata": {},
   "outputs": [],
   "source": []
  }
 ],
 "metadata": {
  "kernelspec": {
   "display_name": "Python 3 (ipykernel)",
   "language": "python",
   "name": "python3"
  },
  "language_info": {
   "codemirror_mode": {
    "name": "ipython",
    "version": 3
   },
   "file_extension": ".py",
   "mimetype": "text/x-python",
   "name": "python",
   "nbconvert_exporter": "python",
   "pygments_lexer": "ipython3",
   "version": "3.12.7"
  }
 },
 "nbformat": 4,
 "nbformat_minor": 5
}
