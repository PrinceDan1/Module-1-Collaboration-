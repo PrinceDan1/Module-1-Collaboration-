{
 "cells": [
  {
   "cell_type": "code",
   "execution_count": 3,
   "id": "8019530d-58de-4eca-8b44-00cf095712cd",
   "metadata": {},
   "outputs": [
    {
     "name": "stdout",
     "output_type": "stream",
     "text": [
      "too low\n"
     ]
    }
   ],
   "source": [
    "secret=7\n",
    "guess = 2\n",
    "\n",
    "if guess < secret:\n",
    "    print(\"too low\")\n",
    "\n",
    "elif guess > secret:\n",
    "    print(\"too high\")\n",
    "else:\n",
    "    print(\"just right\")\n"
   ]
  },
  {
   "cell_type": "code",
   "execution_count": 58,
   "id": "4b8f3624-49e6-4160-81d7-768edbdba7c8",
   "metadata": {},
   "outputs": [
    {
     "name": "stdout",
     "output_type": "stream",
     "text": [
      "cherry\n"
     ]
    }
   ],
   "source": [
    "small = True\n",
    "green = False\n",
    "if green == True:\n",
    "    if small == False:\n",
    "        print(\"watermelon\")\n",
    "    else:\n",
    "        print(\"pea\")\n",
    "else:\n",
    "    if small == True:\n",
    "        print(\"cherry\")\n",
    "    else:\n",
    "        print(\"pumpkin\")"
   ]
  },
  {
   "cell_type": "code",
   "execution_count": 1,
   "id": "1347654d-e06d-4d43-9b22-e7063ba1a2a6",
   "metadata": {},
   "outputs": [
    {
     "name": "stdout",
     "output_type": "stream",
     "text": [
      "3\n",
      "2\n",
      "1\n",
      "0\n"
     ]
    }
   ],
   "source": [
    "list=[3,2,1,0]\n",
    "counter =1\n",
    "for counter in list:\n",
    "    print(counter)\n"
   ]
  },
  {
   "cell_type": "code",
   "execution_count": 52,
   "id": "7f29b5f2-2737-497b-9a35-74d40204a28c",
   "metadata": {},
   "outputs": [
    {
     "name": "stdout",
     "output_type": "stream",
     "text": [
      "too low\n"
     ]
    }
   ],
   "source": [
    "guess_me = 5\n",
    "number = 2\n",
    "for number in range(10):\n",
    "    if number == guess_me:\n",
    "        print(\"found it\")\n",
    "        break\n",
    "    elif number> guess_me:\n",
    "        print(\"oops\")\n",
    "        break\n",
    "    else:\n",
    "        print(\"too low\")\n",
    "        break\n"
   ]
  },
  {
   "cell_type": "code",
   "execution_count": 3,
   "id": "2fa8e5e4-2f06-44ea-a2b3-a8e462def4e5",
   "metadata": {},
   "outputs": [
    {
     "name": "stdout",
     "output_type": "stream",
     "text": [
      "too low\n"
     ]
    }
   ],
   "source": [
    "guess_me = 7\n",
    "number = 1\n",
    "count = 0\n",
    "while True:\n",
    "    if guess_me < number:\n",
    "        print(\"oops\")\n",
    "        break\n",
    "    elif guess_me>number:\n",
    "        print(\"too low\")\n",
    "        break\n",
    "    else:\n",
    "        print(\"found it!\")\n",
    "    "
   ]
  },
  {
   "cell_type": "code",
   "execution_count": null,
   "id": "5f0e27d3-002d-41de-bdc5-c10f240290ec",
   "metadata": {},
   "outputs": [],
   "source": []
  },
  {
   "cell_type": "code",
   "execution_count": null,
   "id": "80e6b3be-e05d-4f99-b3ec-f2a6c9b1e501",
   "metadata": {},
   "outputs": [],
   "source": []
  }
 ],
 "metadata": {
  "kernelspec": {
   "display_name": "Python 3 (ipykernel)",
   "language": "python",
   "name": "python3"
  },
  "language_info": {
   "codemirror_mode": {
    "name": "ipython",
    "version": 3
   },
   "file_extension": ".py",
   "mimetype": "text/x-python",
   "name": "python",
   "nbconvert_exporter": "python",
   "pygments_lexer": "ipython3",
   "version": "3.12.7"
  }
 },
 "nbformat": 4,
 "nbformat_minor": 5
}
