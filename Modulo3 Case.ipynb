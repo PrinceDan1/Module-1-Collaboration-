{
 "cells": [
  {
   "cell_type": "code",
   "execution_count": 70,
   "id": "36c81323-06ef-4d60-ba2b-fb29287e8b92",
   "metadata": {},
   "outputs": [
    {
     "name": "stdout",
     "output_type": "stream",
     "text": [
      "Welcome!\n"
     ]
    },
    {
     "name": "stdin",
     "output_type": "stream",
     "text": [
      "Enter the car's year:  2013\n",
      "Enter the car's make:  hyundai\n",
      "Enter the car's model:  elandra\n",
      "Enter the number of doors (2 or 4):  2\n",
      "Enter the type of roof (solid or sun roof):  solid\n"
     ]
    },
    {
     "name": "stdout",
     "output_type": "stream",
     "text": [
      "Vehicle type:car\n",
      "Year:2013\n",
      "Make:hyundai\n",
      "Model:elandra\n",
      "number of doors:\n",
      "2\n",
      "type of roof solid\n"
     ]
    }
   ],
   "source": [
    "class Vehicle:\n",
    "    def __init__(self, vehicle_type):\n",
    "        self.vehicle_type = vehicle_type\n",
    "\n",
    "\n",
    "class Automobile(Vehicle):\n",
    "    def __init__(self, vehicle_type, year, make, model, doors, roof):\n",
    "        super().__init__(vehicle_type)\n",
    "        \n",
    "        self.year = year\n",
    "        self.make = make\n",
    "        self.model = model\n",
    "        self.doors = doors\n",
    "        self.roof = roof\n",
    "\n",
    "\n",
    "print(\"Welcome!\")\n",
    "vehicle_type = \"car\"\n",
    "year = input(\"Enter the car's year: \")\n",
    "make = input(\"Enter the car's make: \")\n",
    "model = input(\"Enter the car's model: \")\n",
    "\n",
    "while True:\n",
    "    doors = int(input(\"Enter the number of doors (2 or 4): \"))\n",
    "    if doors != 2 and doors != 4:\n",
    "        print(\"Invalid input. Please enter either 2 or 4 doors.\")\n",
    "    else:\n",
    "         break\n",
    "    \n",
    "while True:\n",
    "    roof = input(\"Enter the type of roof (solid or sun roof): \")\n",
    "    if roof != \"solid\" and roof != \"sun roof\":\n",
    "        print(\"Invalid input. Please enter either 'solid' or 'sun roof'.\")\n",
    "    else:\n",
    "        break\n",
    "car1 = Automobile(vehicle_type, year, make, model, doors, roof)\n",
    "\n",
    "\n",
    "print(\"Vehicle type:\"+ vehicle_type)\n",
    "print(\"Year:\"+ year)\n",
    "print(\"Make:\"+ make)\n",
    "print(\"Model:\"+ model)\n",
    "print(\"number of doors:\") \n",
    "print(doors)\n",
    "print(\"type of roof \"+ roof)\n",
    "  "
   ]
  },
  {
   "cell_type": "code",
   "execution_count": null,
   "id": "3116fb6e-815f-4dc2-9770-3a46339de409",
   "metadata": {},
   "outputs": [],
   "source": []
  }
 ],
 "metadata": {
  "kernelspec": {
   "display_name": "Python 3 (ipykernel)",
   "language": "python",
   "name": "python3"
  },
  "language_info": {
   "codemirror_mode": {
    "name": "ipython",
    "version": 3
   },
   "file_extension": ".py",
   "mimetype": "text/x-python",
   "name": "python",
   "nbconvert_exporter": "python",
   "pygments_lexer": "ipython3",
   "version": "3.12.7"
  }
 },
 "nbformat": 4,
 "nbformat_minor": 5
}
